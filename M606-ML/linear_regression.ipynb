{
 "cells": [
  {
   "cell_type": "markdown",
   "metadata": {},
   "source": [
    "# Linear Regression on adult.csv"
   ]
  },
  {
   "cell_type": "markdown",
   "metadata": {},
   "source": [
    "#### Import Modules"
   ]
  },
  {
   "cell_type": "code",
   "execution_count": 17,
   "metadata": {},
   "outputs": [],
   "source": [
    "import pandas as pd"
   ]
  },
  {
   "cell_type": "markdown",
   "metadata": {},
   "source": [
    "#### Loading the dataset"
   ]
  },
  {
   "cell_type": "code",
   "execution_count": 18,
   "metadata": {},
   "outputs": [
    {
     "data": {
      "text/html": [
       "<div>\n",
       "<style scoped>\n",
       "    .dataframe tbody tr th:only-of-type {\n",
       "        vertical-align: middle;\n",
       "    }\n",
       "\n",
       "    .dataframe tbody tr th {\n",
       "        vertical-align: top;\n",
       "    }\n",
       "\n",
       "    .dataframe thead th {\n",
       "        text-align: right;\n",
       "    }\n",
       "</style>\n",
       "<table border=\"1\" class=\"dataframe\">\n",
       "  <thead>\n",
       "    <tr style=\"text-align: right;\">\n",
       "      <th></th>\n",
       "      <th>age</th>\n",
       "      <th>workclass</th>\n",
       "      <th>fnlwgt</th>\n",
       "      <th>education</th>\n",
       "      <th>education-num</th>\n",
       "      <th>marital-status</th>\n",
       "      <th>occupation</th>\n",
       "      <th>relationship</th>\n",
       "      <th>race</th>\n",
       "      <th>sex</th>\n",
       "      <th>capital-gain</th>\n",
       "      <th>capital-loss</th>\n",
       "      <th>hours-per-week</th>\n",
       "      <th>native-country</th>\n",
       "      <th>target</th>\n",
       "    </tr>\n",
       "  </thead>\n",
       "  <tbody>\n",
       "    <tr>\n",
       "      <th>0</th>\n",
       "      <td>39</td>\n",
       "      <td>State-gov</td>\n",
       "      <td>77516</td>\n",
       "      <td>Bachelors</td>\n",
       "      <td>13</td>\n",
       "      <td>Never-married</td>\n",
       "      <td>Adm-clerical</td>\n",
       "      <td>Not-in-family</td>\n",
       "      <td>White</td>\n",
       "      <td>Male</td>\n",
       "      <td>2174</td>\n",
       "      <td>0</td>\n",
       "      <td>40</td>\n",
       "      <td>United-States</td>\n",
       "      <td>&lt;=50K</td>\n",
       "    </tr>\n",
       "    <tr>\n",
       "      <th>1</th>\n",
       "      <td>50</td>\n",
       "      <td>Self-emp-not-inc</td>\n",
       "      <td>83311</td>\n",
       "      <td>Bachelors</td>\n",
       "      <td>13</td>\n",
       "      <td>Married-civ-spouse</td>\n",
       "      <td>Exec-managerial</td>\n",
       "      <td>Husband</td>\n",
       "      <td>White</td>\n",
       "      <td>Male</td>\n",
       "      <td>0</td>\n",
       "      <td>0</td>\n",
       "      <td>13</td>\n",
       "      <td>United-States</td>\n",
       "      <td>&lt;=50K</td>\n",
       "    </tr>\n",
       "    <tr>\n",
       "      <th>2</th>\n",
       "      <td>38</td>\n",
       "      <td>Private</td>\n",
       "      <td>215646</td>\n",
       "      <td>HS-grad</td>\n",
       "      <td>9</td>\n",
       "      <td>Divorced</td>\n",
       "      <td>Handlers-cleaners</td>\n",
       "      <td>Not-in-family</td>\n",
       "      <td>White</td>\n",
       "      <td>Male</td>\n",
       "      <td>0</td>\n",
       "      <td>0</td>\n",
       "      <td>40</td>\n",
       "      <td>United-States</td>\n",
       "      <td>&lt;=50K</td>\n",
       "    </tr>\n",
       "    <tr>\n",
       "      <th>3</th>\n",
       "      <td>53</td>\n",
       "      <td>Private</td>\n",
       "      <td>234721</td>\n",
       "      <td>11th</td>\n",
       "      <td>7</td>\n",
       "      <td>Married-civ-spouse</td>\n",
       "      <td>Handlers-cleaners</td>\n",
       "      <td>Husband</td>\n",
       "      <td>Black</td>\n",
       "      <td>Male</td>\n",
       "      <td>0</td>\n",
       "      <td>0</td>\n",
       "      <td>40</td>\n",
       "      <td>United-States</td>\n",
       "      <td>&lt;=50K</td>\n",
       "    </tr>\n",
       "    <tr>\n",
       "      <th>4</th>\n",
       "      <td>28</td>\n",
       "      <td>Private</td>\n",
       "      <td>338409</td>\n",
       "      <td>Bachelors</td>\n",
       "      <td>13</td>\n",
       "      <td>Married-civ-spouse</td>\n",
       "      <td>Prof-specialty</td>\n",
       "      <td>Wife</td>\n",
       "      <td>Black</td>\n",
       "      <td>Female</td>\n",
       "      <td>0</td>\n",
       "      <td>0</td>\n",
       "      <td>40</td>\n",
       "      <td>Cuba</td>\n",
       "      <td>&lt;=50K</td>\n",
       "    </tr>\n",
       "  </tbody>\n",
       "</table>\n",
       "</div>"
      ],
      "text/plain": [
       "   age          workclass  fnlwgt   education  education-num  \\\n",
       "0   39          State-gov   77516   Bachelors             13   \n",
       "1   50   Self-emp-not-inc   83311   Bachelors             13   \n",
       "2   38            Private  215646     HS-grad              9   \n",
       "3   53            Private  234721        11th              7   \n",
       "4   28            Private  338409   Bachelors             13   \n",
       "\n",
       "        marital-status          occupation    relationship    race      sex  \\\n",
       "0        Never-married        Adm-clerical   Not-in-family   White     Male   \n",
       "1   Married-civ-spouse     Exec-managerial         Husband   White     Male   \n",
       "2             Divorced   Handlers-cleaners   Not-in-family   White     Male   \n",
       "3   Married-civ-spouse   Handlers-cleaners         Husband   Black     Male   \n",
       "4   Married-civ-spouse      Prof-specialty            Wife   Black   Female   \n",
       "\n",
       "   capital-gain  capital-loss  hours-per-week  native-country  target  \n",
       "0          2174             0              40   United-States   <=50K  \n",
       "1             0             0              13   United-States   <=50K  \n",
       "2             0             0              40   United-States   <=50K  \n",
       "3             0             0              40   United-States   <=50K  \n",
       "4             0             0              40            Cuba   <=50K  "
      ]
     },
     "execution_count": 18,
     "metadata": {},
     "output_type": "execute_result"
    }
   ],
   "source": [
    "df = pd.read_csv('adult.csv')\n",
    "df.head()"
   ]
  },
  {
   "cell_type": "markdown",
   "metadata": {},
   "source": [
    "#### Splitting the Data into Training and Test Sets"
   ]
  },
  {
   "cell_type": "code",
   "execution_count": 19,
   "metadata": {},
   "outputs": [
    {
     "name": "stdout",
     "output_type": "stream",
     "text": [
      "df_train: (24420, 15)\n",
      "df_test: (8141, 15)\n"
     ]
    }
   ],
   "source": [
    "from sklearn.model_selection import train_test_split\n",
    "\n",
    "df_train, df_test = train_test_split(df)\n",
    "print(f\"df_train: {df_train.shape}\")\n",
    "print(f\"df_test: {df_test.shape}\")"
   ]
  },
  {
   "cell_type": "markdown",
   "metadata": {},
   "source": [
    "#### Data Exploration"
   ]
  },
  {
   "cell_type": "code",
   "execution_count": 20,
   "metadata": {},
   "outputs": [
    {
     "data": {
      "text/plain": [
       "age                int64\n",
       "workclass         object\n",
       "fnlwgt             int64\n",
       "education         object\n",
       "education-num      int64\n",
       "marital-status    object\n",
       "occupation        object\n",
       "relationship      object\n",
       "race              object\n",
       "sex               object\n",
       "capital-gain       int64\n",
       "capital-loss       int64\n",
       "hours-per-week     int64\n",
       "native-country    object\n",
       "target            object\n",
       "dtype: object"
      ]
     },
     "execution_count": 20,
     "metadata": {},
     "output_type": "execute_result"
    }
   ],
   "source": [
    "df_train.dtypes"
   ]
  },
  {
   "cell_type": "code",
   "execution_count": 21,
   "metadata": {},
   "outputs": [
    {
     "data": {
      "text/plain": [
       "<Axes: >"
      ]
     },
     "execution_count": 21,
     "metadata": {},
     "output_type": "execute_result"
    },
    {
     "data": {
      "image/png": "[encoded data removed]",
      "text/plain": [
       "<Figure size 640x480 with 1 Axes>"
      ]
     },
     "metadata": {},
     "output_type": "display_data"
    }
   ],
   "source": [
    "df_train[\"age\"].hist()"
   ]
  },
  {
   "cell_type": "code",
   "execution_count": 22,
   "metadata": {},
   "outputs": [
    {
     "data": {
      "text/plain": [
       "<Axes: >"
      ]
     },
     "execution_count": 22,
     "metadata": {},
     "output_type": "execute_result"
    },
    {
     "data": {
      "image/png": "[encoded data removed]",
      "text/plain": [
       "<Figure size 640x480 with 1 Axes>"
      ]
     },
     "metadata": {},
     "output_type": "display_data"
    }
   ],
   "source": [
    "df_train[\"age\"].hist()"
   ]
  },
  {
   "cell_type": "code",
   "execution_count": 23,
   "metadata": {},
   "outputs": [
    {
     "data": {
      "text/plain": [
       "<Axes: xlabel='workclass'>"
      ]
     },
     "execution_count": 23,
     "metadata": {},
     "output_type": "execute_result"
    },
    {
     "data": {
      "image/png": "[encoded data removed]",
      "text/plain": [
       "<Figure size 640x480 with 1 Axes>"
      ]
     },
     "metadata": {},
     "output_type": "display_data"
    }
   ],
   "source": [
    "df_train[\"workclass\"].value_counts().plot(kind='bar')"
   ]
  },
  {
   "cell_type": "code",
   "execution_count": 24,
   "metadata": {},
   "outputs": [
    {
     "data": {
      "text/plain": [
       "array([' Federal-gov', ' Private', ' ?', ' Local-gov',\n",
       "       ' Self-emp-not-inc', ' Self-emp-inc', ' State-gov',\n",
       "       ' Never-worked', ' Without-pay'], dtype=object)"
      ]
     },
     "execution_count": 24,
     "metadata": {},
     "output_type": "execute_result"
    }
   ],
   "source": [
    "df_train[\"workclass\"].unique()"
   ]
  },
  {
   "cell_type": "code",
   "execution_count": 25,
   "metadata": {},
   "outputs": [
    {
     "data": {
      "text/plain": [
       "<Axes: xlabel='target'>"
      ]
     },
     "execution_count": 25,
     "metadata": {},
     "output_type": "execute_result"
    },
    {
     "data": {
      "image/png": "[encoded data removed]",
      "text/plain": [
       "<Figure size 640x480 with 1 Axes>"
      ]
     },
     "metadata": {},
     "output_type": "display_data"
    }
   ],
   "source": [
    "df_train[\"target\"].value_counts().plot(kind='bar')"
   ]
  },
  {
   "cell_type": "markdown",
   "metadata": {},
   "source": [
    "### Data Preprocessing"
   ]
  },
  {
   "cell_type": "markdown",
   "metadata": {},
   "source": [
    "#### Removing missing values"
   ]
  },
  {
   "cell_type": "code",
   "execution_count": 26,
   "metadata": {},
   "outputs": [
    {
     "name": "stdout",
     "output_type": "stream",
     "text": [
      "df_train_cleaned: (24420, 15)\n",
      "df_test_cleaned: (8141, 15)\n"
     ]
    }
   ],
   "source": [
    "df_train = df_train.replace(\"?\", pd.NaT)\n",
    "df_train = df_train.dropna()\n",
    "print(f\"df_train_cleaned: {df_train.shape}\")\n",
    "\n",
    "df_test = df_test.replace(\"?\", pd.NaT)\n",
    "df_test = df_test.dropna()\n",
    "print(f\"df_test_cleaned: {df_test.shape}\")"
   ]
  },
  {
   "cell_type": "markdown",
   "metadata": {},
   "source": [
    "#### Splitting Features and the Target Label\n",
    "#### Splitting training and testing data - 75 % for training 25 % for testing"
   ]
  },
  {
   "cell_type": "code",
   "execution_count": 27,
   "metadata": {},
   "outputs": [
    {
     "name": "stdout",
     "output_type": "stream",
     "text": [
      "x_train: (24420, 14)\n",
      "y_train: (24420,)\n",
      "x_test: (8141, 14)\n",
      "y_test: (8141,)\n"
     ]
    }
   ],
   "source": [
    "from sklearn.preprocessing import LabelEncoder\n",
    "\n",
    "# Initialize the LabelEncoder\n",
    "label_encoder = LabelEncoder()\n",
    "\n",
    "# Fit and transform the target variable for training data\n",
    "y_train = label_encoder.fit_transform(df_train[\"target\"])\n",
    "x_train = df_train.drop([\"target\"], axis=1)\n",
    "print(f\"x_train: {x_train.shape}\")\n",
    "print(f\"y_train: {y_train.shape}\")\n",
    "\n",
    "# Transform the target variable for test data\n",
    "y_test = label_encoder.transform(df_test[\"target\"])\n",
    "x_test = df_test.drop([\"target\"], axis=1)\n",
    "print(f\"x_test: {x_test.shape}\")\n",
    "print(f\"y_test: {y_test.shape}\")"
   ]
  },
  {
   "cell_type": "markdown",
   "metadata": {},
   "source": [
    "### Feature Engineering "
   ]
  },
  {
   "cell_type": "markdown",
   "metadata": {},
   "source": [
    "#### One-Hot Encoding and Standadization"
   ]
  },
  {
   "cell_type": "code",
   "execution_count": 28,
   "metadata": {},
   "outputs": [
    {
     "data": {
      "text/plain": [
       "(<Compressed Sparse Row sparse matrix of dtype 'float64'\n",
       " \twith 341880 stored elements and shape (24420, 108)>,\n",
       " <Compressed Sparse Row sparse matrix of dtype 'float64'\n",
       " \twith 113974 stored elements and shape (8141, 108)>)"
      ]
     },
     "execution_count": 28,
     "metadata": {},
     "output_type": "execute_result"
    }
   ],
   "source": [
    "# Column Transformation\n",
    "from sklearn.compose import ColumnTransformer\n",
    "from sklearn.preprocessing import StandardScaler, OneHotEncoder\n",
    "\n",
    "numerical_attributes = x_train.select_dtypes(include=['int64', 'float64']).columns\n",
    "categorical_attributes = x_train.select_dtypes(include=['object']).columns\n",
    "\n",
    "ct = ColumnTransformer([\n",
    "    ('standar_scaler', StandardScaler(), numerical_attributes),     # Standardizes numerical columns\n",
    "    ('one_hot_encoder', OneHotEncoder(handle_unknown='ignore'), categorical_attributes)     # One-Hot Encodes categorical columns\n",
    "]).fit(x_train)\n",
    "\n",
    "transformed_x_train = ct.transform(x_train)\n",
    "transformed_x_test = ct.transform(x_test)\n",
    "\n",
    "transformed_x_train, transformed_x_test"
   ]
  },
  {
   "cell_type": "markdown",
   "metadata": {},
   "source": [
    "#### Dimensionality Reduction"
   ]
  },
  {
   "cell_type": "code",
   "execution_count": 29,
   "metadata": {},
   "outputs": [
    {
     "name": "stdout",
     "output_type": "stream",
     "text": [
      "[0.14850631 0.10720612]\n",
      "0.2557124358659243\n"
     ]
    }
   ],
   "source": [
    "# PCA: applies Principal Component Analysis (PCA) to reduce the dimensionality \n",
    "# of the dataset while retaining as much variance as possible.\n",
    "from sklearn.decomposition import PCA\n",
    "\n",
    "pca = PCA(n_components=2)\n",
    "pca.fit(transformed_x_train)\n",
    "\n",
    "x_train_pca = pca.transform(transformed_x_train)\n",
    "x_test_pca = pca.transform(transformed_x_test)\n",
    "\n",
    "print(pca.explained_variance_ratio_)  # Shows the percentage of variance retained per component\n",
    "print(sum(pca.explained_variance_ratio_))  # Shows the total variance retained\n"
   ]
  },
  {
   "cell_type": "code",
   "execution_count": 32,
   "metadata": {},
   "outputs": [
    {
     "data": {
      "text/plain": [
       "(array([[ 0.1925031 , -0.66211343],\n",
       "        [ 1.56281959, -1.17010029],\n",
       "        [-2.0124444 ,  0.98913148],\n",
       "        ...,\n",
       "        [ 0.15807609,  1.52842573],\n",
       "        [ 0.47135139, -0.45334555],\n",
       "        [-1.29670674,  0.13535137]], shape=(24420, 2)),\n",
       " array([[ 0.17459381,  0.13214512],\n",
       "        [ 1.40230947,  0.01930162],\n",
       "        [-1.18896399,  1.5342011 ],\n",
       "        ...,\n",
       "        [-2.75769092,  0.89075653],\n",
       "        [-0.09582846, -0.78118106],\n",
       "        [ 1.55998055,  0.04832844]], shape=(8141, 2)))"
      ]
     },
     "execution_count": 32,
     "metadata": {},
     "output_type": "execute_result"
    }
   ],
   "source": [
    "x_train_pca, x_test_pca"
   ]
  },
  {
   "cell_type": "markdown",
   "metadata": {},
   "source": [
    "#### Linear Regression"
   ]
  },
  {
   "cell_type": "code",
   "execution_count": 43,
   "metadata": {},
   "outputs": [
    {
     "name": "stdout",
     "output_type": "stream",
     "text": [
      "Score for Linear Regression: 0.3609534151500666\n",
      "Mean Absolute Error (MAE): 0.26388738219353947\n",
      "Mean Squared Error (MSE): 0.11681317377397939\n",
      "R-squared (R²): 0.3609534151500666\n"
     ]
    }
   ],
   "source": [
    "# Import the necessary libraries\n",
    "from sklearn.linear_model import LinearRegression\n",
    "from sklearn.metrics import mean_absolute_error, mean_squared_error, r2_score\n",
    "\n",
    "# Initialize the Linear Regression model\n",
    "linear_regression = LinearRegression()\n",
    "\n",
    "# Fit the model to your training data\n",
    "linear_regression.fit(transformed_x_train, y_train)\n",
    "\n",
    "# Make predictions using the fitted model\n",
    "y_test_pred_linear = linear_regression.predict(transformed_x_test)\n",
    "\n",
    "print(f\"Score for Linear Regression: {linear_regression.score(transformed_x_test, y_test)}\")\n",
    "\n",
    "mae = mean_absolute_error(y_test, y_test_pred_linear)\n",
    "mse = mean_squared_error(y_test, y_test_pred_linear)\n",
    "r2 = r2_score(y_test, y_test_pred_linear)\n",
    "\n",
    "print(f\"Mean Absolute Error (MAE): {mae}\")\n",
    "print(f\"Mean Squared Error (MSE): {mse}\")\n",
    "print(f\"R-squared (R²): {r2}\")"
   ]
  },
  {
   "cell_type": "markdown",
   "metadata": {},
   "source": [
    "#### Logistic Regression"
   ]
  },
  {
   "cell_type": "code",
   "execution_count": 38,
   "metadata": {},
   "outputs": [
    {
     "name": "stdout",
     "output_type": "stream",
     "text": [
      "Accuracy: 0.849281415059575\n",
      "Precision: 0.8426181381667196\n",
      "Recall: 0.849281415059575\n",
      "F1-score: 0.8437053469013027\n",
      "Confusion Matrix:\n",
      "[[5750  431]\n",
      " [ 796 1164]]\n"
     ]
    }
   ],
   "source": [
    "from sklearn.linear_model import LogisticRegression\n",
    "from sklearn.metrics import accuracy_score, precision_score, recall_score, f1_score, confusion_matrix\n",
    "\n",
    "# Initialize the Logistic Regression model\n",
    "logistic_regression = LogisticRegression()\n",
    "\n",
    "# Fit the model to your training data\n",
    "logistic_regression.fit(transformed_x_train, y_train)\n",
    "\n",
    "# Make predictions using the fitted model\n",
    "y_test_pred_logistic = logistic_regression.predict(transformed_x_test)\n",
    "\n",
    "# Calculate the accuracy\n",
    "accuracy = accuracy_score(y_test, y_test_pred_logistic)\n",
    "print(f\"Accuracy: {accuracy}\")\n",
    "\n",
    "# Calculate the precision\n",
    "precision = precision_score(y_test, y_test_pred_logistic, average='weighted')\n",
    "print(f\"Precision: {precision}\")\n",
    "\n",
    "# Calculate the recall\n",
    "recall = recall_score(y_test, y_test_pred_logistic, average='weighted')\n",
    "print(f\"Recall: {recall}\")\n",
    "\n",
    "# Calculate the F1-score\n",
    "f1 = f1_score(y_test, y_test_pred_logistic, average='weighted')\n",
    "print(f\"F1-score: {f1}\")\n",
    "\n",
    "# Calculate the confusion matrix\n",
    "conf_matrix = confusion_matrix(y_test, y_test_pred_logistic)\n",
    "print(f\"Confusion Matrix:\\n{conf_matrix}\")"
   ]
  },
  {
   "cell_type": "markdown",
   "metadata": {},
   "source": [
    "#### Naive Bayes"
   ]
  },
  {
   "cell_type": "code",
   "execution_count": 41,
   "metadata": {},
   "outputs": [
    {
     "name": "stdout",
     "output_type": "stream",
     "text": [
      "Accuracy: 0.5225402284731605\n",
      "Precision: 0.8113675859183539\n",
      "Recall: 0.5225402284731605\n",
      "F1-score: 0.5362752473800229\n",
      "Confusion Matrix:\n",
      "[[2383 3798]\n",
      " [  89 1871]]\n"
     ]
    }
   ],
   "source": [
    "from sklearn.naive_bayes import GaussianNB\n",
    "from sklearn.metrics import accuracy_score, precision_score, recall_score, f1_score, confusion_matrix\n",
    "\n",
    "# Initialize the Gaussian Naive Bayes model\n",
    "naive_bayes = GaussianNB()\n",
    "\n",
    "# Fit the model to your training data\n",
    "naive_bayes.fit(transformed_x_train.toarray(), y_train)\n",
    "\n",
    "# Make predictions using the fitted model\n",
    "y_test_pred_nb = naive_bayes.predict(transformed_x_test.toarray())\n",
    "\n",
    "# Calculate the accuracy\n",
    "accuracy = accuracy_score(y_test, y_test_pred_nb)\n",
    "print(f\"Accuracy: {accuracy}\")\n",
    "\n",
    "# Calculate the precision\n",
    "precision = precision_score(y_test, y_test_pred_nb, average='weighted')\n",
    "print(f\"Precision: {precision}\")\n",
    "\n",
    "# Calculate the recall\n",
    "recall = recall_score(y_test, y_test_pred_nb, average='weighted')\n",
    "print(f\"Recall: {recall}\")\n",
    "\n",
    "# Calculate the F1-score\n",
    "f1 = f1_score(y_test, y_test_pred_nb, average='weighted')\n",
    "print(f\"F1-score: {f1}\")\n",
    "\n",
    "# Calculate the confusion matrix\n",
    "conf_matrix = confusion_matrix(y_test, y_test_pred_nb)\n",
    "print(f\"Confusion Matrix:\\n{conf_matrix}\")"
   ]
  },
  {
   "cell_type": "markdown",
   "metadata": {},
   "source": [
    "#### SVM"
   ]
  },
  {
   "cell_type": "code",
   "execution_count": 42,
   "metadata": {},
   "outputs": [
    {
     "name": "stdout",
     "output_type": "stream",
     "text": [
      "Accuracy: 0.8573885272079597\n",
      "Precision: 0.8510854080375267\n",
      "Recall: 0.8573885272079597\n",
      "F1-score: 0.8501223778989369\n",
      "Confusion Matrix:\n",
      "[[5840  341]\n",
      " [ 820 1140]]\n"
     ]
    }
   ],
   "source": [
    "from sklearn.svm import SVC\n",
    "from sklearn.metrics import accuracy_score, precision_score, recall_score, f1_score, confusion_matrix\n",
    "\n",
    "# Initialize the SVM model\n",
    "svm_model = SVC()\n",
    "\n",
    "# Fit the model to your training data\n",
    "svm_model.fit(transformed_x_train, y_train)\n",
    "\n",
    "# Make predictions using the fitted model\n",
    "y_test_pred_svm = svm_model.predict(transformed_x_test)\n",
    "\n",
    "# Calculate the accuracy\n",
    "accuracy = accuracy_score(y_test, y_test_pred_svm)\n",
    "print(f\"Accuracy: {accuracy}\")\n",
    "\n",
    "# Calculate the precision\n",
    "precision = precision_score(y_test, y_test_pred_svm, average='weighted')\n",
    "print(f\"Precision: {precision}\")\n",
    "\n",
    "# Calculate the recall\n",
    "recall = recall_score(y_test, y_test_pred_svm, average='weighted')\n",
    "print(f\"Recall: {recall}\")\n",
    "\n",
    "# Calculate the F1-score\n",
    "f1 = f1_score(y_test, y_test_pred_svm, average='weighted')\n",
    "print(f\"F1-score: {f1}\")\n",
    "\n",
    "# Calculate the confusion matrix\n",
    "conf_matrix = confusion_matrix(y_test, y_test_pred_svm)\n",
    "print(f\"Confusion Matrix:\\n{conf_matrix}\")"
   ]
  },
  {
   "cell_type": "markdown",
   "metadata": {},
   "source": [
    "#### Decision Tree"
   ]
  },
  {
   "cell_type": "code",
   "execution_count": 47,
   "metadata": {},
   "outputs": [
    {
     "name": "stdout",
     "output_type": "stream",
     "text": [
      "Accuracy: 0.8108340498710233\n",
      "Precision: 0.8096661695644376\n",
      "Recall: 0.8108340498710233\n",
      "F1-score: 0.8102320196901404\n",
      "Confusion Matrix:\n",
      "[[5429  752]\n",
      " [ 788 1172]]\n"
     ]
    }
   ],
   "source": [
    "from sklearn.tree import DecisionTreeClassifier\n",
    "from sklearn.metrics import accuracy_score, precision_score, recall_score, f1_score, confusion_matrix\n",
    "\n",
    "# Initialize the Decision Tree model\n",
    "decision_tree = DecisionTreeClassifier()\n",
    "\n",
    "# Fit the model to your training data\n",
    "decision_tree.fit(transformed_x_train, y_train)\n",
    "\n",
    "# Make predictions using the fitted model\n",
    "y_test_pred_dt = decision_tree.predict(transformed_x_test)\n",
    "\n",
    "# Calculate the accuracy\n",
    "accuracy = accuracy_score(y_test, y_test_pred_dt)\n",
    "print(f\"Accuracy: {accuracy}\")\n",
    "\n",
    "# Calculate the precision\n",
    "precision = precision_score(y_test, y_test_pred_dt, average='weighted')\n",
    "print(f\"Precision: {precision}\")\n",
    "\n",
    "# Calculate the recall\n",
    "recall = recall_score(y_test, y_test_pred_dt, average='weighted')\n",
    "print(f\"Recall: {recall}\")\n",
    "\n",
    "# Calculate the F1-score\n",
    "f1 = f1_score(y_test, y_test_pred_dt, average='weighted')\n",
    "print(f\"F1-score: {f1}\")\n",
    "\n",
    "# Calculate the confusion matrix\n",
    "conf_matrix = confusion_matrix(y_test, y_test_pred_dt)\n",
    "print(f\"Confusion Matrix:\\n{conf_matrix}\")"
   ]
  },
  {
   "cell_type": "markdown",
   "metadata": {},
   "source": [
    "#### KNN"
   ]
  },
  {
   "cell_type": "code",
   "execution_count": 48,
   "metadata": {},
   "outputs": [
    {
     "name": "stdout",
     "output_type": "stream",
     "text": [
      "Accuracy: 0.8130450804569463\n",
      "Precision: 0.8122717998932221\n",
      "Recall: 0.8130450804569463\n",
      "F1-score: 0.8126503725648504\n",
      "Confusion Matrix:\n",
      "[[5432  749]\n",
      " [ 773 1187]]\n"
     ]
    }
   ],
   "source": [
    "from sklearn.tree import DecisionTreeClassifier\n",
    "from sklearn.metrics import accuracy_score, precision_score, recall_score, f1_score, confusion_matrix\n",
    "\n",
    "# Initialize the Decision Tree model\n",
    "decision_tree = DecisionTreeClassifier()\n",
    "\n",
    "# Fit the model to your training data\n",
    "decision_tree.fit(transformed_x_train, y_train)\n",
    "\n",
    "# Make predictions using the fitted model\n",
    "y_test_pred_dt = decision_tree.predict(transformed_x_test)\n",
    "\n",
    "# Calculate the accuracy\n",
    "accuracy = accuracy_score(y_test, y_test_pred_dt)\n",
    "print(f\"Accuracy: {accuracy}\")\n",
    "\n",
    "# Calculate the precision\n",
    "precision = precision_score(y_test, y_test_pred_dt, average='weighted')\n",
    "print(f\"Precision: {precision}\")\n",
    "\n",
    "# Calculate the recall\n",
    "recall = recall_score(y_test, y_test_pred_dt, average='weighted')\n",
    "print(f\"Recall: {recall}\")\n",
    "\n",
    "# Calculate the F1-score\n",
    "f1 = f1_score(y_test, y_test_pred_dt, average='weighted')\n",
    "print(f\"F1-score: {f1}\")\n",
    "\n",
    "# Calculate the confusion matrix\n",
    "conf_matrix = confusion_matrix(y_test, y_test_pred_dt)\n",
    "print(f\"Confusion Matrix:\\n{conf_matrix}\")"
   ]
  },
  {
   "cell_type": "markdown",
   "metadata": {},
   "source": [
    "#### Compare the accuracy of the above models"
   ]
  },
  {
   "cell_type": "code",
   "execution_count": 49,
   "metadata": {},
   "outputs": [
    {
     "data": {
      "image/png": "[encoded data removed]",
      "text/plain": [
       "<Figure size 1000x600 with 1 Axes>"
      ]
     },
     "metadata": {},
     "output_type": "display_data"
    }
   ],
   "source": [
    "import matplotlib.pyplot as plt\n",
    "from sklearn.linear_model import LinearRegression, LogisticRegression\n",
    "from sklearn.svm import SVC\n",
    "from sklearn.naive_bayes import GaussianNB\n",
    "from sklearn.tree import DecisionTreeClassifier\n",
    "from sklearn.neighbors import KNeighborsClassifier\n",
    "from sklearn.metrics import accuracy_score\n",
    "\n",
    "# Initialize the models\n",
    "linear_regression = LinearRegression()\n",
    "logistic_regression = LogisticRegression()\n",
    "svm_model = SVC()\n",
    "naive_bayes = GaussianNB()\n",
    "decision_tree = DecisionTreeClassifier()\n",
    "knn = KNeighborsClassifier()\n",
    "\n",
    "# Fit the models to your training data\n",
    "linear_regression.fit(transformed_x_train, y_train)\n",
    "logistic_regression.fit(transformed_x_train, y_train)\n",
    "svm_model.fit(transformed_x_train, y_train)\n",
    "naive_bayes.fit(transformed_x_train.toarray(), y_train)\n",
    "decision_tree.fit(transformed_x_train, y_train)\n",
    "knn.fit(transformed_x_train, y_train)\n",
    "\n",
    "# Make predictions using the fitted models\n",
    "y_test_pred_linear = linear_regression.predict(transformed_x_test)\n",
    "y_test_pred_logistic = logistic_regression.predict(transformed_x_test)\n",
    "y_test_pred_svm = svm_model.predict(transformed_x_test)\n",
    "y_test_pred_nb = naive_bayes.predict(transformed_x_test.toarray())\n",
    "y_test_pred_dt = decision_tree.predict(transformed_x_test)\n",
    "y_test_pred_knn = knn.predict(transformed_x_test)\n",
    "\n",
    "# For Linear Regression, convert predictions to binary (0 or 1) based on a threshold (e.g., 0.5)\n",
    "y_test_pred_linear_binary = (y_test_pred_linear >= 0.5).astype(int)\n",
    "\n",
    "# Calculate the accuracy for each model\n",
    "accuracy_linear = accuracy_score(y_test, y_test_pred_linear_binary)\n",
    "accuracy_logistic = accuracy_score(y_test, y_test_pred_logistic)\n",
    "accuracy_svm = accuracy_score(y_test, y_test_pred_svm)\n",
    "accuracy_nb = accuracy_score(y_test, y_test_pred_nb)\n",
    "accuracy_dt = accuracy_score(y_test, y_test_pred_dt)\n",
    "accuracy_knn = accuracy_score(y_test, y_test_pred_knn)\n",
    "\n",
    "# Prepare data for plotting\n",
    "models = ['Linear Regression', 'Logistic Regression', 'SVM', 'Naive Bayes', 'Decision Tree', 'KNN']\n",
    "accuracies = [accuracy_linear, accuracy_logistic, accuracy_svm, accuracy_nb, accuracy_dt, accuracy_knn]\n",
    "\n",
    "# Plot the accuracies\n",
    "plt.figure(figsize=(10, 6))\n",
    "plt.bar(models, accuracies, color=['blue', 'green', 'red', 'purple', 'orange', 'cyan'])\n",
    "plt.xlabel('Models')\n",
    "plt.ylabel('Accuracy')\n",
    "plt.title('Accuracy Comparison of Different Models')\n",
    "plt.ylim(0, 1)  # Set y-axis limits from 0 to 1\n",
    "plt.show()"
   ]
  }
 ],
 "metadata": {
  "kernelspec": {
   "display_name": ".venv",
   "language": "python",
   "name": "python3"
  },
  "language_info": {
   "codemirror_mode": {
    "name": "ipython",
    "version": 3
   },
   "file_extension": ".py",
   "mimetype": "text/x-python",
   "name": "python",
   "nbconvert_exporter": "python",
   "pygments_lexer": "ipython3",
   "version": "3.10.0"
  }
 },
 "nbformat": 4,
 "nbformat_minor": 2
}
